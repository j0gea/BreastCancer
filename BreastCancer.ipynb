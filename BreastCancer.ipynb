{
  "nbformat": 4,
  "nbformat_minor": 0,
  "metadata": {
    "colab": {
      "provenance": [],
      "authorship_tag": "ABX9TyMr1Mc99M5odNaBahTWoFjq",
      "include_colab_link": true
    },
    "kernelspec": {
      "name": "python3",
      "display_name": "Python 3"
    },
    "language_info": {
      "name": "python"
    }
  },
  "cells": [
    {
      "cell_type": "markdown",
      "metadata": {
        "id": "view-in-github",
        "colab_type": "text"
      },
      "source": [
        "<a href=\"https://colab.research.google.com/github/j0gea/BreastCancer/blob/main/BreastCancer.ipynb\" target=\"_parent\"><img src=\"https://colab.research.google.com/assets/colab-badge.svg\" alt=\"Open In Colab\"/></a>"
      ]
    },
    {
      "cell_type": "markdown",
      "source": [
        "# RSNA Screening Mammography Breast Cancer Detection\n",
        "https://www.kaggle.com/competitions/rsna-breast-cancer-detection\n",
        "\n",
        "---\n",
        "\n",
        "#### **[작성 가이드]**\n",
        "1. 코드를 수정하실때, 자신의 코드 부분에 마크다운으로 수정하신 **시간, 날짜, 수정사항** 을 기입해주시길 바랍니다.\n",
        "(수정하신 부분 카톡방에도 짧게 올려주시면 다른 분들도 참고하시고 도움이 될 것 같아요 ㅠㅁㅠ)\n",
        "2. 모든 코드는 이어지는 형태여야 합니다. 앞 뒤 코드와의 호환성 처리를 부탁드립니다.\n",
        "3. 만약 새로 추가한 input 데이터가 있다면 이 아래 마크다운에 추가한 데이터의 제목, 링크, 그리고 사용된 파트(1,2,3,4)를 적어주시길 바랍니다.\n",
        "4. **주석 열심히 달아주세요!!!!**\n",
        "5. 편집시간이 완전히 겹치면 코드에 오류가 생길 수도 있습니다. 꼭! 먼저 kaggle 노트북에서 테스트를 해보시고 여기는 공유용으로만 사용해주세요.\n",
        "6. 다른 논의사항은 카톡방에 올려주세요.\n",
        "7. 참고하신 코드 출처 남겨주시면 감사합니다.\n",
        "\n",
        "\n"
      ],
      "metadata": {
        "id": "aW8s8uKchb6U"
      }
    },
    {
      "cell_type": "markdown",
      "source": [
        "#### **[전체적 수정사항]**\n",
        "- 2023/11/06 09:17 가이드 기입 및 틀 만들기"
      ],
      "metadata": {
        "id": "4HrpRbNokM3r"
      }
    },
    {
      "cell_type": "markdown",
      "source": [
        "## 1. 전처리"
      ],
      "metadata": {
        "id": "L7y8Jexjhohe"
      }
    },
    {
      "cell_type": "markdown",
      "source": [
        "### (1) 이미지 변환\n",
        "DICOM -> PNG\n",
        "\n",
        "*이미지 변환은 시간이 아주 오래걸립니다. 그래서 이미지 변환 코드에 output 데이터가 따로 딸려있는 경우 그것을 대신 input하는 것으로 처리해주시면 아주아주 감사합니다*"
      ],
      "metadata": {
        "id": "7ZRGtZ2piEnd"
      }
    },
    {
      "cell_type": "code",
      "source": [],
      "metadata": {
        "id": "4jDbNz3GiaQo"
      },
      "execution_count": null,
      "outputs": []
    },
    {
      "cell_type": "markdown",
      "source": [
        "### (2) 이미지 크롭"
      ],
      "metadata": {
        "id": "qRbSPU6tiE56"
      }
    },
    {
      "cell_type": "code",
      "source": [],
      "metadata": {
        "id": "PgOJFH96iawI"
      },
      "execution_count": null,
      "outputs": []
    },
    {
      "cell_type": "markdown",
      "source": [
        "### (3) 데이터 불균형 해소"
      ],
      "metadata": {
        "id": "rwexWeFKiFK0"
      }
    },
    {
      "cell_type": "code",
      "source": [],
      "metadata": {
        "id": "GzZUQ75iibOM"
      },
      "execution_count": null,
      "outputs": []
    },
    {
      "cell_type": "markdown",
      "source": [
        "### (4) 기타 메타데이터 전처리"
      ],
      "metadata": {
        "id": "BhtQGJP0iFZH"
      }
    },
    {
      "cell_type": "code",
      "source": [],
      "metadata": {
        "id": "kU-eVQmghrhT"
      },
      "execution_count": null,
      "outputs": []
    },
    {
      "cell_type": "markdown",
      "source": [
        "## 2. 머신러닝 (다음주차)"
      ],
      "metadata": {
        "id": "wPjnJrkHhr9a"
      }
    },
    {
      "cell_type": "code",
      "execution_count": null,
      "metadata": {
        "id": "FzAXIjgnSQhK"
      },
      "outputs": [],
      "source": [
        "# WIP..."
      ]
    }
  ]
}